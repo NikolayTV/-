{
 "cells": [
  {
   "cell_type": "code",
   "execution_count": 3,
   "metadata": {},
   "outputs": [],
   "source": [
    "%load_ext autoreload\n",
    "%autoreload 2\n",
    "\n",
    "import os, re, json, ast\n",
    "from llm_api_calls import send_message_to_gemini_async\n",
    "from km_utils import get_ToCs, split_dict_by_size, get_content_from_articles_response, split_list_by_size\n",
    "from coap_prompts import *\n",
    "from parallel_descriptions import RateLimiter\n",
    "from pprint import pprint\n",
    "\n",
    "# rate_limiter = RateLimiter(9, 10)\n",
    "rate_limiter = RateLimiter(13, 14)\n",
    "# rate_limiter = RateLimiter(1, 10)"
   ]
  },
  {
   "cell_type": "markdown",
   "metadata": {},
   "source": [
    "# Pipeline"
   ]
  },
  {
   "cell_type": "code",
   "execution_count": 4,
   "metadata": {},
   "outputs": [],
   "source": [
    "ToCs = get_ToCs(base_path = 'coap_map')\n",
    "\n",
    "doc_with_childs = ToCs['doc_with_childs']\n",
    "ToC_sections = ToCs['ToC_sections']\n",
    "ToC_chapters = ToCs['ToC_chapters']\n",
    "ToC_chapters_with_article_short_descriptions = ToCs['ToC_chapters_with_article_short_descriptions']\n",
    "ToC_articles = ToCs['ToC_articles']\n",
    "ToC_articles_short_descriptions = ToCs['ToC_articles_short_descriptions']\n",
    "ToC_articles_descriptions = ToCs['ToC_articles_descriptions']\n",
    "ToC_sections_articles_shortDescription = ToCs['ToC_sections_articles_shortDescription']"
   ]
  },
  {
   "cell_type": "code",
   "execution_count": 6,
   "metadata": {},
   "outputs": [
    {
     "name": "stdout",
     "output_type": "stream",
     "text": [
      "Изначальный вопрос: Что будет за жестокое обращение с животным\n",
      "Уточняющие вопросы: [\"Какую ответственность влечет за собой совершение административного правонарушения, выраженного в жестоком обращении с животным?\", \"Каков размер штрафа за жестокое обращение с животным в соответствии с КоАП РФ?\", \"Какое наказание предусмотрено за причинение боли животному в рамках административного правонарушения?\"]\n",
      "section: Раздел II. Особенная часть\n",
      "chapter_article_map: \n",
      "Статья 10.5.1.\n",
      "ничего не найдено\n",
      "ничего не найдено\n",
      "ничего не найдено\n",
      "ничего не найдено\n",
      "ничего не найдено\n",
      "ничего не найдено\n",
      "Статья 6.16.1.\n",
      "Статья 6.8.\n",
      "ничего не найдено\n",
      "Статья 6.16.1.\n",
      "ничего не найдено\n",
      "Статья 245.\n",
      "Статья 245.1.\n",
      "ничего не найдено\n",
      "Статья 10.5.1.\n",
      "Статья 6.16.1.\n",
      "Статья 6.8.\n",
      "Статья 6.16.1.\n",
      "Статья 245.\n",
      "Статья 245.1.\n",
      "Найдено 3 статей\n",
      "Найдено всего 3 статей\n",
      "***\n",
      "['Статья 10.5.1. Незаконное культивирование растений, содержащих наркотические средства или психотропные вещества либо их прекурсоры',\n",
      " 'Статья 6.16.1. Незаконные приобретение, хранение, перевозка, производство, сбыт или пересылка прекурсоров наркотических средств или психотропных веществ, а также незаконные приобретение, хранение, перевозка, сбыт или пересылка растений, содержащих пр',\n",
      " 'Статья 6.8. Незаконный оборот наркотических средств, психотропных веществ или их аналогов и незаконные приобретение, хранение, перевозка растений, содержащих наркотические средства или психотропные вещества, либо их частей, содержащих наркотические с']\n",
      "***\n",
      "\n",
      "\n",
      " ФИНАЛЬНЫЙ ОТВЕТ: ***\n",
      "Жестокое обращение с животными влечет наложение административного штрафа на граждан в размере от трех тысяч до пяти тысяч рублей или административный арест на срок до пятнадцати суток.\n",
      "\n",
      "**Примечание:**\n",
      "\n",
      "* Не могу найти информацию о размере штрафа за причинение боли животному в рамках административного правонарушения.\n",
      "* Лицо, добровольно сдавшее приобретенные без цели сбыта наркотические средства, психотропные вещества, их аналоги или растения, содержащие наркотические средства или психотропные вещества, либо их части, содержащие наркотические средства или психотропные вещества, освобождается от административной ответственности за данное административное правонарушение.\n",
      "\n",
      "**Использованные статьи:**\n",
      "\n",
      "* Не могу найти эту информацию в КОАП РФ\n"
     ]
    }
   ],
   "source": [
    "user_query_ori = \"Что будет за жестокое обращение с животным\"\n",
    "\n",
    "user_query = await get_perefrased_query(user_query_ori)\n",
    "user_query = user_query['text_response']\n",
    "print(f'Изначальный вопрос: {user_query_ori}')\n",
    "print(f'Уточняющие вопросы: {user_query}')\n",
    "\n",
    "get_section_response = await get_section_nagigation(user_query_ori, user_query, ToC_sections)\n",
    "choosed_sections = parse_section_response(get_section_response, ToC_articles)\n",
    "\n",
    "total_articles = []\n",
    "for section in choosed_sections:\n",
    "    print('section:', section)\n",
    "    ToC_article_chunks = split_list_by_size(list(ToC_sections_articles_shortDescription[section].items()), size_limit=26000)\n",
    "    choosed_articles_responses = await get_chunked_ARTICLE_navigation(user_query_ori, user_query, ToC_article_chunks, rate_limiter)\n",
    "    articles = get_content_from_articles_response(ToC_articles, choosed_articles_responses)\n",
    "    print(f'Найдено {len(articles)} статей')\n",
    "    total_articles.extend(articles)\n",
    "\n",
    "\n",
    "print(f'Найдено всего {len(total_articles)} статей')\n",
    "print('***')\n",
    "pprint([a['article_title'] for a in total_articles], width=300)\n",
    "print('***')\n",
    "\n",
    "context = [f\"{x['article_title']} : {x['content']}\" for x in total_articles]\n",
    "if len(str(context)) > 25000:\n",
    "    context = choose_articles_second_round_and_limit_context(context, user_query_ori, user_query, ToC_articles, size_limit=25000, rate_limiter=rate_limiter)\n",
    "\n",
    "get_article_response, prompt = await get_final_response(user_query_ori, user_query, \n",
    "                                                        context,\n",
    "                                                        rate_limiter=rate_limiter)\n",
    "print('\\n\\n ФИНАЛЬНЫЙ ОТВЕТ: ***')\n",
    "print(get_article_response.get('text_response'))\n"
   ]
  },
  {
   "cell_type": "code",
   "execution_count": null,
   "metadata": {},
   "outputs": [],
   "source": []
  },
  {
   "cell_type": "code",
   "execution_count": null,
   "metadata": {},
   "outputs": [],
   "source": []
  },
  {
   "cell_type": "code",
   "execution_count": null,
   "metadata": {},
   "outputs": [],
   "source": []
  },
  {
   "cell_type": "code",
   "execution_count": 6,
   "metadata": {},
   "outputs": [
    {
     "name": "stdout",
     "output_type": "stream",
     "text": [
      "\n",
      "\n",
      " ФИНАЛЬНЫЙ ОТВЕТ: ***\n",
      "**Ответ на основной вопрос:**\n",
      "\n",
      "Штраф за осуществление предпринимательской деятельности без государственной регистрации в качестве индивидуального предпринимателя составляет от 500 до 2000 рублей.\n",
      "\n",
      "**Примечание:**\n",
      "\n",
      "* В статье 14.1 КоАП РФ указано, что осуществление предпринимательской деятельности без государственной регистрации в качестве индивидуального предпринимателя влечет наложение административного штрафа в размере от 500 до 2000 рублей.\n",
      "* Статья 14.1.2 КоАП РФ предусматривает штраф в размере 50 000 рублей за осуществление предпринимательской деятельности в области транспорта без лицензии.\n",
      "* Статья 19.20 КоАП РФ устанавливает штраф от 500 до 1000 рублей за осуществление деятельности, не связанной с извлечением прибыли, без специального разрешения (лицензии).\n",
      "\n",
      "**Использованные статьи:**\n",
      "\n",
      "* Статья 14.1 КоАП РФ\n",
      "* Статья 14.1.2 КоАП РФ\n",
      "* Статья 19.20 КоАП РФ\n"
     ]
    }
   ],
   "source": [
    "get_article_response, prompt = await get_final_response(user_query_ori, user_query, \n",
    "                                                        context,\n",
    "                                                        rate_limiter=rate_limiter)\n",
    "print('\\n\\n ФИНАЛЬНЫЙ ОТВЕТ: ***')\n",
    "print(get_article_response.get('text_response'))\n"
   ]
  },
  {
   "cell_type": "code",
   "execution_count": null,
   "metadata": {},
   "outputs": [],
   "source": []
  },
  {
   "cell_type": "code",
   "execution_count": null,
   "metadata": {},
   "outputs": [],
   "source": [
    "# какой штраф за предпринимательскую деятельность без ИП?"
   ]
  },
  {
   "cell_type": "code",
   "execution_count": null,
   "metadata": {},
   "outputs": [],
   "source": [
    "\n",
    "test_cases = {\n",
    "    'user_query_ori': \"что будет за дискредитацию армии рф?\", 'needed_articles': [\"Статья 20.3.3.\"],\n",
    "    'user_query_ori': \"штраф за пересечение стоп-линии красный сигнал светофора\", 'needed_articles': [\"Статья 12.12.\"],\n",
    "    'user_query_ori': \"какое наказание за марихуану?\", 'needed_articles': [\"Статья 6.8.\"],\n",
    "    'user_query_ori': \"какое наказание за драку?\", 'needed_articles': [\"Статья 20.1.\", \"Статья 6.1.1.\"],\n",
    "    'user_query_ori': \"что будет если скрыться с места дтп?\", 'needed_articles': [\"Статья 12.27.\"],\n",
    "    'user_query_ori': \"какой штраф за просроченный паспорт?\", 'needed_articles': [\"Статья 19.15.\"],\n",
    "    'user_query_ori': \"что будет за дачу взятки?\", 'needed_articles': [\"Статья 19.28.\"],\n",
    "    'user_query_ori': \"что будет за вырубку леса?\", 'needed_articles': [\"Статья 8.25.\"],\n",
    "    'user_query_ori': \"какой штраф за порчу чужого имущества?\", 'needed_articles': [\"Статья 7.17.\"],\n",
    "    'user_query_ori': \"какой штраф за вождение без прав?\", 'needed_articles': [\"Статья 12.7.\"],\n",
    "    'user_query_ori': \"что будет за неявку по повестке?\", 'needed_articles': [\"Статья 27.15.\", \"Статья 21.5.\"],\n",
    "    'user_query_ori': \"что будет за тонировку?\", 'needed_articles': [\"Статья 12.5.\"],\n",
    "    'user_query_ori': \"Что будет за дискриминацию по полу, цвету кожи, расе?\", 'needed_articles': [\"Статья 5.62.\"],\n",
    "    'user_query_ori': \"Что будет за сокрытие ВИЧ?\", 'needed_articles': [\"Статья 6.1.\"],\n",
    "    'user_query_ori': \"Что будет за потребление наркотических веществ\", 'needed_articles': [\"Статья 20.20.\", \"Статья 6.9.\"],\n",
    "    'user_query_ori': \"Что будет за повреждение памятников культурного наследия\", 'needed_articles': [\"Статья 7.13.\"],\n",
    "    'user_query_ori': \"какой штраф за предпринимательскую деятельность без ИП?\", 'needed_articles': [\"Статья 14.1.\"],\n",
    "    'user_query_ori': \"Что будет, если не уступить дорогу пешеходу?\", 'needed_articles': [\"Статья 12.18.\"],\n",
    "\n",
    "\n",
    "\n",
    "    \n",
    "              }"
   ]
  },
  {
   "cell_type": "code",
   "execution_count": null,
   "metadata": {},
   "outputs": [],
   "source": []
  }
 ],
 "metadata": {
  "kernelspec": {
   "display_name": "base",
   "language": "python",
   "name": "python3"
  },
  "language_info": {
   "codemirror_mode": {
    "name": "ipython",
    "version": 3
   },
   "file_extension": ".py",
   "mimetype": "text/x-python",
   "name": "python",
   "nbconvert_exporter": "python",
   "pygments_lexer": "ipython3",
   "version": "3.11.8"
  }
 },
 "nbformat": 4,
 "nbformat_minor": 2
}
